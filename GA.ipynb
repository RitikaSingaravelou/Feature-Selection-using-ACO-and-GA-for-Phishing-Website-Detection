{
  "nbformat": 4,
  "nbformat_minor": 0,
  "metadata": {
    "colab": {
      "provenance": [],
      "collapsed_sections": []
    },
    "kernelspec": {
      "name": "python3",
      "display_name": "Python 3"
    },
    "language_info": {
      "name": "python"
    },
    "accelerator": "GPU"
  },
  "cells": [
    {
      "cell_type": "code",
      "source": [
        "from google.colab import drive\n",
        "drive.mount('/content/drive')"
      ],
      "metadata": {
        "colab": {
          "base_uri": "https://localhost:8080/"
        },
        "id": "kFgQSvGIZIpw",
        "outputId": "8f308c53-805b-4f58-d982-cf1d3156a473"
      },
      "execution_count": null,
      "outputs": [
        {
          "output_type": "stream",
          "name": "stdout",
          "text": [
            "Mounted at /content/drive\n"
          ]
        }
      ]
    },
    {
      "cell_type": "code",
      "execution_count": null,
      "metadata": {
        "id": "aAOngVTASSjE"
      },
      "outputs": [],
      "source": [
        "#Required Imports\n",
        "import numpy as np\n",
        "import time\n",
        "from sklearn.model_selection import cross_val_score, KFold\n",
        "from sklearn.metrics import f1_score, r2_score\n",
        "from sklearn.decomposition import PCA\n",
        "import matplotlib.pyplot as plt\n",
        "\n",
        "\n",
        "class GeneticFS():\n",
        "    \"\"\"\n",
        "    Built to be compatible with sci-kit learn library for both regression and classification models\n",
        "    This is designed to help with feature selection in highly dimensional datasets\n",
        "    \"\"\"\n",
        "\n",
        "    def __init__(self, mutation_rate = 0.001, iterations = 100, pool_size = 50):\n",
        "        self.mutation_rate = mutation_rate\n",
        "        self.iterations = iterations\n",
        "        self.pool_size = pool_size\n",
        "        self.pool = np.array([])\n",
        "        self.iterations_results = {}\n",
        "        self.kf = KFold(n_splits=5)\n",
        "\n",
        "\n",
        "    def results(self):\n",
        "        \"\"\"\n",
        "        Print best results from the fit\n",
        "        \"\"\"\n",
        "\n",
        "        return (self.pool[0], [idx for idx, gene in enumerate(self.pool[0]) if gene==1])\n",
        "\n",
        "\n",
        "    def plot_progress(self):\n",
        "        \"\"\"\n",
        "        Plots the progress of the genetic algorithm\n",
        "        \"\"\"\n",
        "\n",
        "        avs = [np.mean(self.iterations_results[str(x)]['scores']) for x in range(1,iterations+1)]\n",
        "        avs0 = [np.mean(self.iterations_results[str(x)]['scores'][0]) for x in range(1,iterations+1)]\n",
        "        plt.plot(avs, label='Pool Average Score')\n",
        "        plt.plot(avs0, label='Best Solution Score')\n",
        "        plt.legend()\n",
        "        plt.show()\n",
        "\n",
        "\n",
        "    def fit(self, model, _type, X, y, cv=True, verbose=True):\n",
        "        \"\"\"\n",
        "        model = sci-kit learn regression/classification model\n",
        "        _type = type of model entered STR (eg.'regression' or 'classification')\n",
        "        X = X input data\n",
        "        y = Y output data corresponding to X\n",
        "        cv = True/False for cross-validation\n",
        "        pca = True/False for principal component analysis\n",
        "        \"\"\"\n",
        "\n",
        "        self.__init__(self.mutation_rate, self.iterations, self.pool_size)\n",
        "        \n",
        "        is_array = False\n",
        "\n",
        "        try:\n",
        "            X = np.array(X)\n",
        "            is_array = True\n",
        "        except:\n",
        "            X = X\n",
        "\n",
        "        self.pool = np.random.randint(0,2,(self.pool_size, X.shape[1]))\n",
        "\n",
        "        for iteration in range(1,self.iterations+1):\n",
        "            s_t = time.time()\n",
        "            scores = list(); fitness = list(); \n",
        "            for chromosome in self.pool:\n",
        "                chosen_idx = [idx for gene, idx in zip(chromosome, range(X.shape[1])) if gene==1]\n",
        "\n",
        "                if is_array==True: \n",
        "                    adj_X = X[:,chosen_idx]\n",
        "                elif is_array==False:\n",
        "                    adj_X = X.iloc[:,chosen_idx]\n",
        "\n",
        "                #used\n",
        "                if _type == 'classification':\n",
        "                    if cv==True:\n",
        "                        score = np.mean(cross_val_score(model, adj_X, y, scoring='f1_weighted', cv=self.kf))\n",
        "                    else:\n",
        "                        score = f1_score(y, model.fit(adj_X,y).predict(adj_X))\n",
        "\n",
        "                scores.append(score)\n",
        "            fitness = [x/sum(scores) for x in scores]\n",
        "\n",
        "            fitness, self.pool, scores = (list(t) for t in zip(*sorted(zip(fitness, [list(l) for l in list(self.pool)], scores),reverse=True)))\n",
        "            self.iterations_results['{}'.format(iteration)] = dict()\n",
        "            self.iterations_results['{}'.format(iteration)]['fitness'] = fitness\n",
        "            self.iterations_results['{}'.format(iteration)]['pool'] = self.pool\n",
        "            self.iterations_results['{}'.format(iteration)]['scores'] = scores\n",
        "\n",
        "            self.pool = np.array(self.pool)\n",
        "\n",
        "            if iteration != self.iterations+1:\n",
        "                new_pool = []\n",
        "                for chromosome in self.pool[1:int((len(self.pool)/2)+1)]:\n",
        "                    random_split_point = np.random.randint(1,len(chromosome))\n",
        "                    next_gen1 = np.concatenate((self.pool[0][:random_split_point], chromosome[random_split_point:]), axis = 0)\n",
        "                    next_gen2 = np.concatenate((chromosome[:random_split_point], self.pool[0][random_split_point:]), axis = 0)\n",
        "                    for idx, gene in enumerate(next_gen1):\n",
        "                        if np.random.random() < self.mutation_rate:\n",
        "                            next_gen1[idx] = 1 if gene==0 else 0\n",
        "                    for idx, gene in enumerate(next_gen2):\n",
        "                        if np.random.random() < self.mutation_rate:\n",
        "                            next_gen2[idx] = 1 if gene==0 else 0\n",
        "                    new_pool.append(next_gen1)\n",
        "                    new_pool.append(next_gen2)\n",
        "                self.pool = new_pool\n",
        "            else:\n",
        "                continue\n",
        "            if verbose:\n",
        "                if iteration % 10 == 0:\n",
        "                    e_t = time.time()\n",
        "                    print('Iteration {} Complete [Time Taken For Last Iteration: {} Seconds]'.format(iteration,round(e_t-s_t,2)))"
      ]
    },
    {
      "cell_type": "code",
      "source": [
        "from sklearn.neighbors import KNeighborsClassifier\n",
        "from sklearn.model_selection import train_test_split\n",
        "from sklearn.model_selection import cross_val_score\n",
        "from sklearn.metrics import accuracy_score\n",
        "import pandas as pd"
      ],
      "metadata": {
        "id": "TCVa7xEpq3Sk"
      },
      "execution_count": null,
      "outputs": []
    },
    {
      "cell_type": "code",
      "source": [
        "data = pd.read_csv(\"/content/drive/MyDrive/UCIPhish.csv\")"
      ],
      "metadata": {
        "id": "3BsHfBGDtnwM"
      },
      "execution_count": null,
      "outputs": []
    },
    {
      "cell_type": "code",
      "source": [
        "data.head()"
      ],
      "metadata": {
        "colab": {
          "base_uri": "https://localhost:8080/",
          "height": 300
        },
        "id": "k7CKpt9Wuxnj",
        "outputId": "6eeffaab-4ca8-47f4-c505-7b53f6346c6f"
      },
      "execution_count": null,
      "outputs": [
        {
          "output_type": "execute_result",
          "data": {
            "text/plain": [
              "   id  having_IP_Address  URL_Length  Shortining_Service  having_At_Symbol  \\\n",
              "0   1                 -1           1                   1                 1   \n",
              "1   2                  1           1                   1                 1   \n",
              "2   3                  1           0                   1                 1   \n",
              "3   4                  1           0                   1                 1   \n",
              "4   5                  1           0                  -1                 1   \n",
              "\n",
              "   double_slash_redirecting  Prefix_Suffix  having_Sub_Domain  SSLfinal_State  \\\n",
              "0                        -1             -1                 -1              -1   \n",
              "1                         1             -1                  0               1   \n",
              "2                         1             -1                 -1              -1   \n",
              "3                         1             -1                 -1              -1   \n",
              "4                         1             -1                  1               1   \n",
              "\n",
              "   Domain_registeration_length  ...  popUpWidnow  Iframe  age_of_domain  \\\n",
              "0                           -1  ...            1       1             -1   \n",
              "1                           -1  ...            1       1             -1   \n",
              "2                           -1  ...            1       1              1   \n",
              "3                            1  ...            1       1             -1   \n",
              "4                           -1  ...           -1       1             -1   \n",
              "\n",
              "   DNSRecord  web_traffic  Page_Rank  Google_Index  Links_pointing_to_page  \\\n",
              "0         -1           -1         -1             1                       1   \n",
              "1         -1            0         -1             1                       1   \n",
              "2         -1            1         -1             1                       0   \n",
              "3         -1            1         -1             1                      -1   \n",
              "4         -1            0         -1             1                       1   \n",
              "\n",
              "   Statistical_report  Result  \n",
              "0                  -1      -1  \n",
              "1                   1      -1  \n",
              "2                  -1      -1  \n",
              "3                   1      -1  \n",
              "4                   1       1  \n",
              "\n",
              "[5 rows x 32 columns]"
            ],
            "text/html": [
              "\n",
              "  <div id=\"df-24f37124-cd2c-424f-8d70-36abf2fab0d9\">\n",
              "    <div class=\"colab-df-container\">\n",
              "      <div>\n",
              "<style scoped>\n",
              "    .dataframe tbody tr th:only-of-type {\n",
              "        vertical-align: middle;\n",
              "    }\n",
              "\n",
              "    .dataframe tbody tr th {\n",
              "        vertical-align: top;\n",
              "    }\n",
              "\n",
              "    .dataframe thead th {\n",
              "        text-align: right;\n",
              "    }\n",
              "</style>\n",
              "<table border=\"1\" class=\"dataframe\">\n",
              "  <thead>\n",
              "    <tr style=\"text-align: right;\">\n",
              "      <th></th>\n",
              "      <th>id</th>\n",
              "      <th>having_IP_Address</th>\n",
              "      <th>URL_Length</th>\n",
              "      <th>Shortining_Service</th>\n",
              "      <th>having_At_Symbol</th>\n",
              "      <th>double_slash_redirecting</th>\n",
              "      <th>Prefix_Suffix</th>\n",
              "      <th>having_Sub_Domain</th>\n",
              "      <th>SSLfinal_State</th>\n",
              "      <th>Domain_registeration_length</th>\n",
              "      <th>...</th>\n",
              "      <th>popUpWidnow</th>\n",
              "      <th>Iframe</th>\n",
              "      <th>age_of_domain</th>\n",
              "      <th>DNSRecord</th>\n",
              "      <th>web_traffic</th>\n",
              "      <th>Page_Rank</th>\n",
              "      <th>Google_Index</th>\n",
              "      <th>Links_pointing_to_page</th>\n",
              "      <th>Statistical_report</th>\n",
              "      <th>Result</th>\n",
              "    </tr>\n",
              "  </thead>\n",
              "  <tbody>\n",
              "    <tr>\n",
              "      <th>0</th>\n",
              "      <td>1</td>\n",
              "      <td>-1</td>\n",
              "      <td>1</td>\n",
              "      <td>1</td>\n",
              "      <td>1</td>\n",
              "      <td>-1</td>\n",
              "      <td>-1</td>\n",
              "      <td>-1</td>\n",
              "      <td>-1</td>\n",
              "      <td>-1</td>\n",
              "      <td>...</td>\n",
              "      <td>1</td>\n",
              "      <td>1</td>\n",
              "      <td>-1</td>\n",
              "      <td>-1</td>\n",
              "      <td>-1</td>\n",
              "      <td>-1</td>\n",
              "      <td>1</td>\n",
              "      <td>1</td>\n",
              "      <td>-1</td>\n",
              "      <td>-1</td>\n",
              "    </tr>\n",
              "    <tr>\n",
              "      <th>1</th>\n",
              "      <td>2</td>\n",
              "      <td>1</td>\n",
              "      <td>1</td>\n",
              "      <td>1</td>\n",
              "      <td>1</td>\n",
              "      <td>1</td>\n",
              "      <td>-1</td>\n",
              "      <td>0</td>\n",
              "      <td>1</td>\n",
              "      <td>-1</td>\n",
              "      <td>...</td>\n",
              "      <td>1</td>\n",
              "      <td>1</td>\n",
              "      <td>-1</td>\n",
              "      <td>-1</td>\n",
              "      <td>0</td>\n",
              "      <td>-1</td>\n",
              "      <td>1</td>\n",
              "      <td>1</td>\n",
              "      <td>1</td>\n",
              "      <td>-1</td>\n",
              "    </tr>\n",
              "    <tr>\n",
              "      <th>2</th>\n",
              "      <td>3</td>\n",
              "      <td>1</td>\n",
              "      <td>0</td>\n",
              "      <td>1</td>\n",
              "      <td>1</td>\n",
              "      <td>1</td>\n",
              "      <td>-1</td>\n",
              "      <td>-1</td>\n",
              "      <td>-1</td>\n",
              "      <td>-1</td>\n",
              "      <td>...</td>\n",
              "      <td>1</td>\n",
              "      <td>1</td>\n",
              "      <td>1</td>\n",
              "      <td>-1</td>\n",
              "      <td>1</td>\n",
              "      <td>-1</td>\n",
              "      <td>1</td>\n",
              "      <td>0</td>\n",
              "      <td>-1</td>\n",
              "      <td>-1</td>\n",
              "    </tr>\n",
              "    <tr>\n",
              "      <th>3</th>\n",
              "      <td>4</td>\n",
              "      <td>1</td>\n",
              "      <td>0</td>\n",
              "      <td>1</td>\n",
              "      <td>1</td>\n",
              "      <td>1</td>\n",
              "      <td>-1</td>\n",
              "      <td>-1</td>\n",
              "      <td>-1</td>\n",
              "      <td>1</td>\n",
              "      <td>...</td>\n",
              "      <td>1</td>\n",
              "      <td>1</td>\n",
              "      <td>-1</td>\n",
              "      <td>-1</td>\n",
              "      <td>1</td>\n",
              "      <td>-1</td>\n",
              "      <td>1</td>\n",
              "      <td>-1</td>\n",
              "      <td>1</td>\n",
              "      <td>-1</td>\n",
              "    </tr>\n",
              "    <tr>\n",
              "      <th>4</th>\n",
              "      <td>5</td>\n",
              "      <td>1</td>\n",
              "      <td>0</td>\n",
              "      <td>-1</td>\n",
              "      <td>1</td>\n",
              "      <td>1</td>\n",
              "      <td>-1</td>\n",
              "      <td>1</td>\n",
              "      <td>1</td>\n",
              "      <td>-1</td>\n",
              "      <td>...</td>\n",
              "      <td>-1</td>\n",
              "      <td>1</td>\n",
              "      <td>-1</td>\n",
              "      <td>-1</td>\n",
              "      <td>0</td>\n",
              "      <td>-1</td>\n",
              "      <td>1</td>\n",
              "      <td>1</td>\n",
              "      <td>1</td>\n",
              "      <td>1</td>\n",
              "    </tr>\n",
              "  </tbody>\n",
              "</table>\n",
              "<p>5 rows × 32 columns</p>\n",
              "</div>\n",
              "      <button class=\"colab-df-convert\" onclick=\"convertToInteractive('df-24f37124-cd2c-424f-8d70-36abf2fab0d9')\"\n",
              "              title=\"Convert this dataframe to an interactive table.\"\n",
              "              style=\"display:none;\">\n",
              "        \n",
              "  <svg xmlns=\"http://www.w3.org/2000/svg\" height=\"24px\"viewBox=\"0 0 24 24\"\n",
              "       width=\"24px\">\n",
              "    <path d=\"M0 0h24v24H0V0z\" fill=\"none\"/>\n",
              "    <path d=\"M18.56 5.44l.94 2.06.94-2.06 2.06-.94-2.06-.94-.94-2.06-.94 2.06-2.06.94zm-11 1L8.5 8.5l.94-2.06 2.06-.94-2.06-.94L8.5 2.5l-.94 2.06-2.06.94zm10 10l.94 2.06.94-2.06 2.06-.94-2.06-.94-.94-2.06-.94 2.06-2.06.94z\"/><path d=\"M17.41 7.96l-1.37-1.37c-.4-.4-.92-.59-1.43-.59-.52 0-1.04.2-1.43.59L10.3 9.45l-7.72 7.72c-.78.78-.78 2.05 0 2.83L4 21.41c.39.39.9.59 1.41.59.51 0 1.02-.2 1.41-.59l7.78-7.78 2.81-2.81c.8-.78.8-2.07 0-2.86zM5.41 20L4 18.59l7.72-7.72 1.47 1.35L5.41 20z\"/>\n",
              "  </svg>\n",
              "      </button>\n",
              "      \n",
              "  <style>\n",
              "    .colab-df-container {\n",
              "      display:flex;\n",
              "      flex-wrap:wrap;\n",
              "      gap: 12px;\n",
              "    }\n",
              "\n",
              "    .colab-df-convert {\n",
              "      background-color: #E8F0FE;\n",
              "      border: none;\n",
              "      border-radius: 50%;\n",
              "      cursor: pointer;\n",
              "      display: none;\n",
              "      fill: #1967D2;\n",
              "      height: 32px;\n",
              "      padding: 0 0 0 0;\n",
              "      width: 32px;\n",
              "    }\n",
              "\n",
              "    .colab-df-convert:hover {\n",
              "      background-color: #E2EBFA;\n",
              "      box-shadow: 0px 1px 2px rgba(60, 64, 67, 0.3), 0px 1px 3px 1px rgba(60, 64, 67, 0.15);\n",
              "      fill: #174EA6;\n",
              "    }\n",
              "\n",
              "    [theme=dark] .colab-df-convert {\n",
              "      background-color: #3B4455;\n",
              "      fill: #D2E3FC;\n",
              "    }\n",
              "\n",
              "    [theme=dark] .colab-df-convert:hover {\n",
              "      background-color: #434B5C;\n",
              "      box-shadow: 0px 1px 3px 1px rgba(0, 0, 0, 0.15);\n",
              "      filter: drop-shadow(0px 1px 2px rgba(0, 0, 0, 0.3));\n",
              "      fill: #FFFFFF;\n",
              "    }\n",
              "  </style>\n",
              "\n",
              "      <script>\n",
              "        const buttonEl =\n",
              "          document.querySelector('#df-24f37124-cd2c-424f-8d70-36abf2fab0d9 button.colab-df-convert');\n",
              "        buttonEl.style.display =\n",
              "          google.colab.kernel.accessAllowed ? 'block' : 'none';\n",
              "\n",
              "        async function convertToInteractive(key) {\n",
              "          const element = document.querySelector('#df-24f37124-cd2c-424f-8d70-36abf2fab0d9');\n",
              "          const dataTable =\n",
              "            await google.colab.kernel.invokeFunction('convertToInteractive',\n",
              "                                                     [key], {});\n",
              "          if (!dataTable) return;\n",
              "\n",
              "          const docLinkHtml = 'Like what you see? Visit the ' +\n",
              "            '<a target=\"_blank\" href=https://colab.research.google.com/notebooks/data_table.ipynb>data table notebook</a>'\n",
              "            + ' to learn more about interactive tables.';\n",
              "          element.innerHTML = '';\n",
              "          dataTable['output_type'] = 'display_data';\n",
              "          await google.colab.output.renderOutput(dataTable, element);\n",
              "          const docLink = document.createElement('div');\n",
              "          docLink.innerHTML = docLinkHtml;\n",
              "          element.appendChild(docLink);\n",
              "        }\n",
              "      </script>\n",
              "    </div>\n",
              "  </div>\n",
              "  "
            ]
          },
          "metadata": {},
          "execution_count": 5
        }
      ]
    },
    {
      "cell_type": "code",
      "source": [
        "data.columns"
      ],
      "metadata": {
        "colab": {
          "base_uri": "https://localhost:8080/"
        },
        "id": "pZz1AyGIu6df",
        "outputId": "55dc3433-3a6b-4622-8ad5-1229e39981c0"
      },
      "execution_count": null,
      "outputs": [
        {
          "output_type": "execute_result",
          "data": {
            "text/plain": [
              "Index(['id', 'having_IP_Address', 'URL_Length', 'Shortining_Service',\n",
              "       'having_At_Symbol', 'double_slash_redirecting', 'Prefix_Suffix',\n",
              "       'having_Sub_Domain', 'SSLfinal_State', 'Domain_registeration_length',\n",
              "       'Favicon', 'port', 'HTTPS_token', 'Request_URL', 'URL_of_Anchor',\n",
              "       'Links_in_tags', 'SFH', 'Submitting_to_email', 'Abnormal_URL',\n",
              "       'Redirect', 'on_mouseover', 'RightClick', 'popUpWidnow', 'Iframe',\n",
              "       'age_of_domain', 'DNSRecord', 'web_traffic', 'Page_Rank',\n",
              "       'Google_Index', 'Links_pointing_to_page', 'Statistical_report',\n",
              "       'Result'],\n",
              "      dtype='object')"
            ]
          },
          "metadata": {},
          "execution_count": 6
        }
      ]
    },
    {
      "cell_type": "code",
      "source": [
        "X = data.drop(['id','Result'],axis=1)"
      ],
      "metadata": {
        "id": "xvrK8WZtutEQ"
      },
      "execution_count": null,
      "outputs": []
    },
    {
      "cell_type": "code",
      "source": [
        "y = data['Result']"
      ],
      "metadata": {
        "id": "7_ODepJ2xehy"
      },
      "execution_count": null,
      "outputs": []
    },
    {
      "cell_type": "code",
      "source": [
        "X_train, X_test, y_train, y_test = train_test_split(X, y, test_size=0.2, random_state=0)"
      ],
      "metadata": {
        "id": "_X9F8VNXYh_N"
      },
      "execution_count": null,
      "outputs": []
    },
    {
      "cell_type": "code",
      "source": [
        "neighbors = list(range(1,50,2))"
      ],
      "metadata": {
        "id": "L55pM9pyYpvT"
      },
      "execution_count": null,
      "outputs": []
    },
    {
      "cell_type": "code",
      "source": [
        "optimal_k = 5"
      ],
      "metadata": {
        "id": "H9nSlcSGrHLo"
      },
      "execution_count": null,
      "outputs": []
    },
    {
      "cell_type": "code",
      "source": [
        "cv_scores=[]\n",
        "for k in neighbors:\n",
        "    knn = KNeighborsClassifier(n_neighbors=k)\n",
        "    scores = cross_val_score(knn, X_train, y_train, scoring='accuracy', cv=10)\n",
        "    cv_scores.append(scores.mean())"
      ],
      "metadata": {
        "id": "10dOPXroYsXN"
      },
      "execution_count": null,
      "outputs": []
    },
    {
      "cell_type": "code",
      "source": [
        "# ============================== KNN with k = optimal_k ===============================================\n",
        "# instantiate learning model k = optimal_k\n",
        "knn_optimal = KNeighborsClassifier(n_neighbors=optimal_k, algorithm='kd_tree')\n",
        "\n",
        "# fitting the model\n",
        "knn_optimal.fit(X_train, y_train)\n",
        "\n",
        "# predict the response\n",
        "\n",
        "pred = knn_optimal.predict(X_test)\n",
        "\n",
        "# evaluate accuracy\n",
        "acc = accuracy_score(y_test, pred) * 100\n",
        "print('\\nThe accuracy of the knn classifier for k = %d is %f%%' % (optimal_k, acc))"
      ],
      "metadata": {
        "colab": {
          "base_uri": "https://localhost:8080/"
        },
        "id": "Sf6iqKuEYuWq",
        "outputId": "13d4a289-0319-4195-f6b5-786eec918399"
      },
      "execution_count": null,
      "outputs": [
        {
          "output_type": "stream",
          "name": "stdout",
          "text": [
            "\n",
            "The accuracy of the knn classifier for k = 5 is 94.210764%\n"
          ]
        }
      ]
    },
    {
      "cell_type": "code",
      "source": [
        "#import GeneticFS\n",
        "\n",
        "gen_model = KNeighborsClassifier(n_neighbors=optimal_k, algorithm='kd_tree')\n",
        "gfs = GeneticFS()\n",
        "\n",
        "# fit the optimizer\n",
        "gfs.fit(model=gen_model, _type='classification', X=X, y=y) # classification model\n",
        "\n",
        "# get results output\n",
        "binary_output_of_optimal_variables, indicies_of_optimal_variables = gfs.results()\n",
        "\n",
        "# plot results of progress\n",
        "#gfs.plot_progress()"
      ],
      "metadata": {
        "colab": {
          "base_uri": "https://localhost:8080/"
        },
        "id": "xSW8RwfES6OW",
        "outputId": "5fb83518-6180-4b03-b2b7-4b56e46ca88d"
      },
      "execution_count": null,
      "outputs": [
        {
          "output_type": "stream",
          "name": "stdout",
          "text": [
            "Iteration 10 Complete [Time Taken For Last Iteration: 120.5 Seconds]\n",
            "Iteration 20 Complete [Time Taken For Last Iteration: 114.9 Seconds]\n",
            "Iteration 30 Complete [Time Taken For Last Iteration: 123.56 Seconds]\n",
            "Iteration 40 Complete [Time Taken For Last Iteration: 117.08 Seconds]\n",
            "Iteration 50 Complete [Time Taken For Last Iteration: 118.02 Seconds]\n",
            "Iteration 60 Complete [Time Taken For Last Iteration: 113.38 Seconds]\n",
            "Iteration 70 Complete [Time Taken For Last Iteration: 109.27 Seconds]\n",
            "Iteration 80 Complete [Time Taken For Last Iteration: 115.07 Seconds]\n",
            "Iteration 90 Complete [Time Taken For Last Iteration: 116.12 Seconds]\n",
            "Iteration 100 Complete [Time Taken For Last Iteration: 119.62 Seconds]\n"
          ]
        }
      ]
    },
    {
      "cell_type": "code",
      "source": [
        "binary_output_of_optimal_variables"
      ],
      "metadata": {
        "colab": {
          "base_uri": "https://localhost:8080/"
        },
        "id": "xCmCFh5UXlqj",
        "outputId": "da570ced-fb4c-458b-e566-7df1aa6816d1"
      },
      "execution_count": null,
      "outputs": [
        {
          "output_type": "execute_result",
          "data": {
            "text/plain": [
              "array([1, 1, 1, 0, 1, 1, 1, 1, 0, 0, 1, 1, 1, 1, 1, 1, 1, 1, 0, 0, 1, 0,\n",
              "       0, 0, 0, 1, 0, 1, 1, 0])"
            ]
          },
          "metadata": {},
          "execution_count": 16
        }
      ]
    },
    {
      "cell_type": "code",
      "source": [
        "indicies_of_optimal_variables"
      ],
      "metadata": {
        "colab": {
          "base_uri": "https://localhost:8080/"
        },
        "id": "zmt9OMIEXmUW",
        "outputId": "0d520a20-bd98-4744-8c65-324ad1330204"
      },
      "execution_count": null,
      "outputs": [
        {
          "output_type": "execute_result",
          "data": {
            "text/plain": [
              "[0, 1, 2, 4, 5, 6, 7, 10, 11, 12, 13, 14, 15, 16, 17, 20, 25, 27, 28]"
            ]
          },
          "metadata": {},
          "execution_count": 17
        }
      ]
    },
    {
      "cell_type": "code",
      "source": [
        "indicies_of_optimal_variables = [0, 1, 2, 4, 5, 6, 7, 10, 11, 12, 13, 14, 15, 16, 17, 20, 25, 27, 28]"
      ],
      "metadata": {
        "id": "7fF-kp9hGCs3"
      },
      "execution_count": null,
      "outputs": []
    },
    {
      "cell_type": "code",
      "source": [
        "X.columns[indicies_of_optimal_variables]"
      ],
      "metadata": {
        "colab": {
          "base_uri": "https://localhost:8080/"
        },
        "id": "COhr1spJXoHm",
        "outputId": "b189bb3e-390d-44db-8963-4db29db02114"
      },
      "execution_count": null,
      "outputs": [
        {
          "output_type": "execute_result",
          "data": {
            "text/plain": [
              "Index(['having_IP_Address', 'URL_Length', 'Shortining_Service',\n",
              "       'double_slash_redirecting', 'Prefix_Suffix', 'having_Sub_Domain',\n",
              "       'SSLfinal_State', 'port', 'HTTPS_token', 'Request_URL', 'URL_of_Anchor',\n",
              "       'Links_in_tags', 'SFH', 'Submitting_to_email', 'Abnormal_URL',\n",
              "       'RightClick', 'web_traffic', 'Google_Index', 'Links_pointing_to_page'],\n",
              "      dtype='object')"
            ]
          },
          "metadata": {},
          "execution_count": 10
        }
      ]
    },
    {
      "cell_type": "code",
      "source": [
        "reduced_X = X[X.columns[indicies_of_optimal_variables]]"
      ],
      "metadata": {
        "id": "Y8trbaEGXqDB"
      },
      "execution_count": null,
      "outputs": []
    },
    {
      "cell_type": "code",
      "source": [
        "reduced_X.head()"
      ],
      "metadata": {
        "colab": {
          "base_uri": "https://localhost:8080/",
          "height": 270
        },
        "id": "yMNn_ggLLZex",
        "outputId": "124d4b82-a443-4ac3-9b8f-bd0a8df22c83"
      },
      "execution_count": null,
      "outputs": [
        {
          "output_type": "execute_result",
          "data": {
            "text/plain": [
              "   having_IP_Address  URL_Length  Shortining_Service  \\\n",
              "0                 -1           1                   1   \n",
              "1                  1           1                   1   \n",
              "2                  1           0                   1   \n",
              "3                  1           0                   1   \n",
              "4                  1           0                  -1   \n",
              "\n",
              "   double_slash_redirecting  Prefix_Suffix  having_Sub_Domain  SSLfinal_State  \\\n",
              "0                        -1             -1                 -1              -1   \n",
              "1                         1             -1                  0               1   \n",
              "2                         1             -1                 -1              -1   \n",
              "3                         1             -1                 -1              -1   \n",
              "4                         1             -1                  1               1   \n",
              "\n",
              "   port  HTTPS_token  Request_URL  URL_of_Anchor  Links_in_tags  SFH  \\\n",
              "0     1           -1            1             -1              1   -1   \n",
              "1     1           -1            1              0             -1   -1   \n",
              "2     1           -1            1              0             -1   -1   \n",
              "3     1           -1           -1              0              0   -1   \n",
              "4     1            1            1              0              0   -1   \n",
              "\n",
              "   Submitting_to_email  Abnormal_URL  RightClick  web_traffic  Google_Index  \\\n",
              "0                   -1            -1           1           -1             1   \n",
              "1                    1             1           1            0             1   \n",
              "2                   -1            -1           1            1             1   \n",
              "3                    1             1           1            1             1   \n",
              "4                    1             1           1            0             1   \n",
              "\n",
              "   Links_pointing_to_page  \n",
              "0                       1  \n",
              "1                       1  \n",
              "2                       0  \n",
              "3                      -1  \n",
              "4                       1  "
            ],
            "text/html": [
              "\n",
              "  <div id=\"df-8cda574e-02e1-4455-a8a9-7f6eeb595234\">\n",
              "    <div class=\"colab-df-container\">\n",
              "      <div>\n",
              "<style scoped>\n",
              "    .dataframe tbody tr th:only-of-type {\n",
              "        vertical-align: middle;\n",
              "    }\n",
              "\n",
              "    .dataframe tbody tr th {\n",
              "        vertical-align: top;\n",
              "    }\n",
              "\n",
              "    .dataframe thead th {\n",
              "        text-align: right;\n",
              "    }\n",
              "</style>\n",
              "<table border=\"1\" class=\"dataframe\">\n",
              "  <thead>\n",
              "    <tr style=\"text-align: right;\">\n",
              "      <th></th>\n",
              "      <th>having_IP_Address</th>\n",
              "      <th>URL_Length</th>\n",
              "      <th>Shortining_Service</th>\n",
              "      <th>double_slash_redirecting</th>\n",
              "      <th>Prefix_Suffix</th>\n",
              "      <th>having_Sub_Domain</th>\n",
              "      <th>SSLfinal_State</th>\n",
              "      <th>port</th>\n",
              "      <th>HTTPS_token</th>\n",
              "      <th>Request_URL</th>\n",
              "      <th>URL_of_Anchor</th>\n",
              "      <th>Links_in_tags</th>\n",
              "      <th>SFH</th>\n",
              "      <th>Submitting_to_email</th>\n",
              "      <th>Abnormal_URL</th>\n",
              "      <th>RightClick</th>\n",
              "      <th>web_traffic</th>\n",
              "      <th>Google_Index</th>\n",
              "      <th>Links_pointing_to_page</th>\n",
              "    </tr>\n",
              "  </thead>\n",
              "  <tbody>\n",
              "    <tr>\n",
              "      <th>0</th>\n",
              "      <td>-1</td>\n",
              "      <td>1</td>\n",
              "      <td>1</td>\n",
              "      <td>-1</td>\n",
              "      <td>-1</td>\n",
              "      <td>-1</td>\n",
              "      <td>-1</td>\n",
              "      <td>1</td>\n",
              "      <td>-1</td>\n",
              "      <td>1</td>\n",
              "      <td>-1</td>\n",
              "      <td>1</td>\n",
              "      <td>-1</td>\n",
              "      <td>-1</td>\n",
              "      <td>-1</td>\n",
              "      <td>1</td>\n",
              "      <td>-1</td>\n",
              "      <td>1</td>\n",
              "      <td>1</td>\n",
              "    </tr>\n",
              "    <tr>\n",
              "      <th>1</th>\n",
              "      <td>1</td>\n",
              "      <td>1</td>\n",
              "      <td>1</td>\n",
              "      <td>1</td>\n",
              "      <td>-1</td>\n",
              "      <td>0</td>\n",
              "      <td>1</td>\n",
              "      <td>1</td>\n",
              "      <td>-1</td>\n",
              "      <td>1</td>\n",
              "      <td>0</td>\n",
              "      <td>-1</td>\n",
              "      <td>-1</td>\n",
              "      <td>1</td>\n",
              "      <td>1</td>\n",
              "      <td>1</td>\n",
              "      <td>0</td>\n",
              "      <td>1</td>\n",
              "      <td>1</td>\n",
              "    </tr>\n",
              "    <tr>\n",
              "      <th>2</th>\n",
              "      <td>1</td>\n",
              "      <td>0</td>\n",
              "      <td>1</td>\n",
              "      <td>1</td>\n",
              "      <td>-1</td>\n",
              "      <td>-1</td>\n",
              "      <td>-1</td>\n",
              "      <td>1</td>\n",
              "      <td>-1</td>\n",
              "      <td>1</td>\n",
              "      <td>0</td>\n",
              "      <td>-1</td>\n",
              "      <td>-1</td>\n",
              "      <td>-1</td>\n",
              "      <td>-1</td>\n",
              "      <td>1</td>\n",
              "      <td>1</td>\n",
              "      <td>1</td>\n",
              "      <td>0</td>\n",
              "    </tr>\n",
              "    <tr>\n",
              "      <th>3</th>\n",
              "      <td>1</td>\n",
              "      <td>0</td>\n",
              "      <td>1</td>\n",
              "      <td>1</td>\n",
              "      <td>-1</td>\n",
              "      <td>-1</td>\n",
              "      <td>-1</td>\n",
              "      <td>1</td>\n",
              "      <td>-1</td>\n",
              "      <td>-1</td>\n",
              "      <td>0</td>\n",
              "      <td>0</td>\n",
              "      <td>-1</td>\n",
              "      <td>1</td>\n",
              "      <td>1</td>\n",
              "      <td>1</td>\n",
              "      <td>1</td>\n",
              "      <td>1</td>\n",
              "      <td>-1</td>\n",
              "    </tr>\n",
              "    <tr>\n",
              "      <th>4</th>\n",
              "      <td>1</td>\n",
              "      <td>0</td>\n",
              "      <td>-1</td>\n",
              "      <td>1</td>\n",
              "      <td>-1</td>\n",
              "      <td>1</td>\n",
              "      <td>1</td>\n",
              "      <td>1</td>\n",
              "      <td>1</td>\n",
              "      <td>1</td>\n",
              "      <td>0</td>\n",
              "      <td>0</td>\n",
              "      <td>-1</td>\n",
              "      <td>1</td>\n",
              "      <td>1</td>\n",
              "      <td>1</td>\n",
              "      <td>0</td>\n",
              "      <td>1</td>\n",
              "      <td>1</td>\n",
              "    </tr>\n",
              "  </tbody>\n",
              "</table>\n",
              "</div>\n",
              "      <button class=\"colab-df-convert\" onclick=\"convertToInteractive('df-8cda574e-02e1-4455-a8a9-7f6eeb595234')\"\n",
              "              title=\"Convert this dataframe to an interactive table.\"\n",
              "              style=\"display:none;\">\n",
              "        \n",
              "  <svg xmlns=\"http://www.w3.org/2000/svg\" height=\"24px\"viewBox=\"0 0 24 24\"\n",
              "       width=\"24px\">\n",
              "    <path d=\"M0 0h24v24H0V0z\" fill=\"none\"/>\n",
              "    <path d=\"M18.56 5.44l.94 2.06.94-2.06 2.06-.94-2.06-.94-.94-2.06-.94 2.06-2.06.94zm-11 1L8.5 8.5l.94-2.06 2.06-.94-2.06-.94L8.5 2.5l-.94 2.06-2.06.94zm10 10l.94 2.06.94-2.06 2.06-.94-2.06-.94-.94-2.06-.94 2.06-2.06.94z\"/><path d=\"M17.41 7.96l-1.37-1.37c-.4-.4-.92-.59-1.43-.59-.52 0-1.04.2-1.43.59L10.3 9.45l-7.72 7.72c-.78.78-.78 2.05 0 2.83L4 21.41c.39.39.9.59 1.41.59.51 0 1.02-.2 1.41-.59l7.78-7.78 2.81-2.81c.8-.78.8-2.07 0-2.86zM5.41 20L4 18.59l7.72-7.72 1.47 1.35L5.41 20z\"/>\n",
              "  </svg>\n",
              "      </button>\n",
              "      \n",
              "  <style>\n",
              "    .colab-df-container {\n",
              "      display:flex;\n",
              "      flex-wrap:wrap;\n",
              "      gap: 12px;\n",
              "    }\n",
              "\n",
              "    .colab-df-convert {\n",
              "      background-color: #E8F0FE;\n",
              "      border: none;\n",
              "      border-radius: 50%;\n",
              "      cursor: pointer;\n",
              "      display: none;\n",
              "      fill: #1967D2;\n",
              "      height: 32px;\n",
              "      padding: 0 0 0 0;\n",
              "      width: 32px;\n",
              "    }\n",
              "\n",
              "    .colab-df-convert:hover {\n",
              "      background-color: #E2EBFA;\n",
              "      box-shadow: 0px 1px 2px rgba(60, 64, 67, 0.3), 0px 1px 3px 1px rgba(60, 64, 67, 0.15);\n",
              "      fill: #174EA6;\n",
              "    }\n",
              "\n",
              "    [theme=dark] .colab-df-convert {\n",
              "      background-color: #3B4455;\n",
              "      fill: #D2E3FC;\n",
              "    }\n",
              "\n",
              "    [theme=dark] .colab-df-convert:hover {\n",
              "      background-color: #434B5C;\n",
              "      box-shadow: 0px 1px 3px 1px rgba(0, 0, 0, 0.15);\n",
              "      filter: drop-shadow(0px 1px 2px rgba(0, 0, 0, 0.3));\n",
              "      fill: #FFFFFF;\n",
              "    }\n",
              "  </style>\n",
              "\n",
              "      <script>\n",
              "        const buttonEl =\n",
              "          document.querySelector('#df-8cda574e-02e1-4455-a8a9-7f6eeb595234 button.colab-df-convert');\n",
              "        buttonEl.style.display =\n",
              "          google.colab.kernel.accessAllowed ? 'block' : 'none';\n",
              "\n",
              "        async function convertToInteractive(key) {\n",
              "          const element = document.querySelector('#df-8cda574e-02e1-4455-a8a9-7f6eeb595234');\n",
              "          const dataTable =\n",
              "            await google.colab.kernel.invokeFunction('convertToInteractive',\n",
              "                                                     [key], {});\n",
              "          if (!dataTable) return;\n",
              "\n",
              "          const docLinkHtml = 'Like what you see? Visit the ' +\n",
              "            '<a target=\"_blank\" href=https://colab.research.google.com/notebooks/data_table.ipynb>data table notebook</a>'\n",
              "            + ' to learn more about interactive tables.';\n",
              "          element.innerHTML = '';\n",
              "          dataTable['output_type'] = 'display_data';\n",
              "          await google.colab.output.renderOutput(dataTable, element);\n",
              "          const docLink = document.createElement('div');\n",
              "          docLink.innerHTML = docLinkHtml;\n",
              "          element.appendChild(docLink);\n",
              "        }\n",
              "      </script>\n",
              "    </div>\n",
              "  </div>\n",
              "  "
            ]
          },
          "metadata": {},
          "execution_count": 12
        }
      ]
    },
    {
      "cell_type": "code",
      "source": [
        "rX_train, rX_test, ry_train, ry_test = train_test_split(reduced_X, y, test_size=0.2, random_state=0)"
      ],
      "metadata": {
        "id": "d3eqaWGHYHuE"
      },
      "execution_count": null,
      "outputs": []
    },
    {
      "cell_type": "code",
      "source": [],
      "metadata": {
        "id": "bTxbHKEE2UQZ"
      },
      "execution_count": null,
      "outputs": []
    },
    {
      "cell_type": "code",
      "source": [
        "cv_scores=[]\n",
        "for k in neighbors:\n",
        "    knn = KNeighborsClassifier(n_neighbors=k)\n",
        "    scores = cross_val_score(knn, rX_train, ry_train, scoring='accuracy', cv=10)\n",
        "    print(\"K : %d, Score : %f\" % (k, scores.mean()))\n",
        "    cv_scores.append(scores.mean())"
      ],
      "metadata": {
        "colab": {
          "base_uri": "https://localhost:8080/"
        },
        "id": "GHreuFcsYK5N",
        "outputId": "4ee27cdb-28ee-443f-c6c8-6d4fd5b1b369"
      },
      "execution_count": null,
      "outputs": [
        {
          "output_type": "stream",
          "name": "stdout",
          "text": [
            "K : 1, Score : 0.949117\n",
            "K : 3, Score : 0.949569\n",
            "K : 5, Score : 0.942559\n",
            "K : 7, Score : 0.940523\n",
            "K : 9, Score : 0.936340\n",
            "K : 11, Score : 0.934080\n",
            "K : 13, Score : 0.933626\n",
            "K : 15, Score : 0.930348\n",
            "K : 17, Score : 0.929670\n",
            "K : 19, Score : 0.929218\n",
            "K : 21, Score : 0.929106\n",
            "K : 23, Score : 0.927296\n",
            "K : 25, Score : 0.928652\n",
            "K : 27, Score : 0.927973\n",
            "K : 29, Score : 0.928086\n",
            "K : 31, Score : 0.926956\n",
            "K : 33, Score : 0.927408\n",
            "K : 35, Score : 0.925260\n",
            "K : 37, Score : 0.924694\n",
            "K : 39, Score : 0.923451\n",
            "K : 41, Score : 0.923451\n",
            "K : 43, Score : 0.922998\n",
            "K : 45, Score : 0.922772\n",
            "K : 47, Score : 0.922546\n",
            "K : 49, Score : 0.922772\n"
          ]
        }
      ]
    },
    {
      "cell_type": "code",
      "source": [
        "optimal_k = 3"
      ],
      "metadata": {
        "id": "i2nqDj-VYNie"
      },
      "execution_count": null,
      "outputs": []
    },
    {
      "cell_type": "code",
      "source": [
        "# ============================== KNN with k = optimal_k ===============================================\n",
        "# instantiate learning model k = optimal_k\n",
        "knn_optimal = KNeighborsClassifier(n_neighbors=optimal_k, algorithm='kd_tree')\n",
        "\n",
        "# fitting the model\n",
        "knn_optimal.fit(rX_train, ry_train)\n",
        "\n",
        "# predict the response\n",
        "pred = knn_optimal.predict(rX_test)\n",
        "\n",
        "# evaluate accuracy\n",
        "racc = accuracy_score(ry_test, pred) * 100\n",
        "f1 = f1_score(ry_test, pred) *100\n",
        "precision = precision_score(ry_test, pred) *100\n",
        "specifity = \n",
        "recall = recall_score(ry_test, pred) *100\n",
        "\n",
        "print('\\nThe accuracy of the knn classifier for k = %d is %f%%' % (optimal_k, racc))\n",
        "print(\"f1:\", f1 )\n"
      ],
      "metadata": {
        "colab": {
          "base_uri": "https://localhost:8080/"
        },
        "id": "g-x5wuBmYP4f",
        "outputId": "9e773648-44e6-41d4-e7e8-1b9753a8c088"
      },
      "execution_count": null,
      "outputs": [
        {
          "output_type": "stream",
          "name": "stdout",
          "text": [
            "\n",
            "The accuracy of the knn classifier for k = 3 is 95.024876%\n"
          ]
        }
      ]
    },
    {
      "cell_type": "code",
      "source": [
        "final_subset=[0, 1, 2, 4, 5, 6, 7, 10, 11, 12, 13, 14, 15, 16, 17, 20, 25, 27, 28]"
      ],
      "metadata": {
        "id": "sT5qJk_ehWXw"
      },
      "execution_count": null,
      "outputs": []
    },
    {
      "cell_type": "code",
      "source": [
        "for i in final_subset:\n",
        "  print(X.columns[i])    "
      ],
      "metadata": {
        "colab": {
          "base_uri": "https://localhost:8080/"
        },
        "id": "es13w2FJhcPB",
        "outputId": "7e96beb1-45ff-42bd-a188-c32495f225cc"
      },
      "execution_count": null,
      "outputs": [
        {
          "output_type": "stream",
          "name": "stdout",
          "text": [
            "having_IP_Address\n",
            "URL_Length\n",
            "Shortining_Service\n",
            "double_slash_redirecting\n",
            "Prefix_Suffix\n",
            "having_Sub_Domain\n",
            "SSLfinal_State\n",
            "port\n",
            "HTTPS_token\n",
            "Request_URL\n",
            "URL_of_Anchor\n",
            "Links_in_tags\n",
            "SFH\n",
            "Submitting_to_email\n",
            "Abnormal_URL\n",
            "RightClick\n",
            "web_traffic\n",
            "Google_Index\n",
            "Links_pointing_to_page\n"
          ]
        }
      ]
    },
    {
      "cell_type": "code",
      "source": [
        "dataset = pd.read_csv('/content/drive/MyDrive/UCIPhish.csv', sep=',')\n",
        "dataset = dataset.drop('id', axis=1)\n",
        "        \n",
        "feature_names_dataset = []\n",
        "for col in dataset.columns:\n",
        "  feature_names_dataset.append(col)\n",
        "feature_names = []\n",
        "  \n",
        "for i in final_subset:\n",
        "  feature_names.append(feature_names_dataset[i]) "
      ],
      "metadata": {
        "id": "EEfTaxzmh5ph"
      },
      "execution_count": null,
      "outputs": []
    },
    {
      "cell_type": "code",
      "source": [
        "feature_names"
      ],
      "metadata": {
        "id": "3wRqD702idS5",
        "outputId": "28f878f7-3f71-48b9-e0b4-7cf6eabfcacb",
        "colab": {
          "base_uri": "https://localhost:8080/"
        }
      },
      "execution_count": null,
      "outputs": [
        {
          "output_type": "execute_result",
          "data": {
            "text/plain": [
              "['having_IP_Address',\n",
              " 'URL_Length',\n",
              " 'Shortining_Service',\n",
              " 'double_slash_redirecting',\n",
              " 'Prefix_Suffix',\n",
              " 'having_Sub_Domain',\n",
              " 'SSLfinal_State',\n",
              " 'port',\n",
              " 'HTTPS_token',\n",
              " 'Request_URL',\n",
              " 'URL_of_Anchor',\n",
              " 'Links_in_tags',\n",
              " 'SFH',\n",
              " 'Submitting_to_email',\n",
              " 'Abnormal_URL',\n",
              " 'RightClick',\n",
              " 'web_traffic',\n",
              " 'Google_Index',\n",
              " 'Links_pointing_to_page']"
            ]
          },
          "metadata": {},
          "execution_count": 17
        }
      ]
    },
    {
      "cell_type": "code",
      "source": [
        "def get_data( ):\n",
        "    \n",
        "    \n",
        "    \n",
        "  dataset = pd.read_csv('/content/drive/MyDrive/UCIPhish.csv', sep=',')\n",
        "  dataset = dataset.drop('id', axis=1)\n",
        "        \n",
        "  feature_names_dataset = []\n",
        "  for col in dataset.columns:\n",
        "    feature_names_dataset.append(col)\n",
        "  feature_names_ga = []\n",
        "  \n",
        "  for i in final_subset:\n",
        "     feature_names_ga.append(feature_names_dataset[i])    \n",
        "    \n",
        "  features_dataset = dataset[feature_names_ga].values\n",
        "  labels_dataset = dataset['Result'].values\n",
        "\n",
        "  (train, test, train_labels, test_labels) = train_test_split(features_dataset, \n",
        "                                            labels_dataset, test_size=0.2, random_state=0)\n",
        "        \n",
        " \n",
        "        \n",
        "  return dataset, features_dataset, labels_dataset, feature_names_dataset\n"
      ],
      "metadata": {
        "id": "R1kWjwE2ig6C"
      },
      "execution_count": null,
      "outputs": []
    },
    {
      "cell_type": "code",
      "source": [
        "def Get_Data_Neural_Network(dataset):\n",
        "    np.random.seed(1)\n",
        "    \n",
        "    dataframe = pd.read_csv(\"UCIPhish.csv\", sep=',')\n",
        "    dataframe = dataframe.drop('id', axis=1)\n",
        "    dataset = dataframe.values\n",
        "    \n",
        "    X = dataset[:,0:30].astype(float)\n",
        "    Y = dataset[:,30]\n",
        "\n",
        "    return X, Y"
      ],
      "metadata": {
        "id": "JXnkeRWbBqVN"
      },
      "execution_count": null,
      "outputs": []
    },
    {
      "cell_type": "code",
      "source": [
        "from sklearn.model_selection import train_test_split\n",
        "from sklearn.tree import DecisionTreeClassifier\n",
        "from sklearn.ensemble import RandomForestClassifier\n",
        "from sklearn.metrics import accuracy_score\n",
        "from sklearn import tree\n",
        "from sklearn import metrics\n",
        "from sklearn import svm\n",
        "from sklearn.feature_selection import SelectKBest, f_regression\n",
        "from sklearn.pipeline import make_pipeline\n",
        "from sklearn.metrics import classification_report\n",
        "import matplotlib.pyplot as plt\n",
        "from sklearn.svm import SVC\n",
        "from sklearn.model_selection import StratifiedKFold\n",
        "from sklearn.feature_selection import RFECV\n",
        "from sklearn.feature_selection import SelectFromModel\n",
        "from sklearn.linear_model import LassoCV\n",
        "from sklearn.feature_selection import f_classif, SelectKBest, mutual_info_classif\n",
        "import random\n",
        "from sklearn.preprocessing import minmax_scale\n",
        "from sklearn.model_selection import cross_val_score, cross_val_predict\n",
        "from sklearn.model_selection import ShuffleSplit\n",
        "from sklearn.decomposition import PCA\n",
        "from sklearn.model_selection import GridSearchCV\n",
        "from sklearn.linear_model import LassoCV\n",
        "from keras.models import Sequential\n",
        "from keras.layers import Dense\n",
        "from keras.wrappers.scikit_learn import KerasClassifier\n",
        "from sklearn.model_selection import cross_val_predict\n",
        "from sklearn.metrics import confusion_matrix\n",
        "from matplotlib.pyplot import figure\n",
        "import seaborn as sn\n",
        "from sklearn.naive_bayes import GaussianNB\n",
        "from sklearn.neighbors import KNeighborsClassifier\n",
        "from keras.models import Sequential\n",
        "import time\n",
        "from sklearn.model_selection import KFold "
      ],
      "metadata": {
        "id": "CUQAhqYzCDZ9"
      },
      "execution_count": null,
      "outputs": []
    },
    {
      "cell_type": "code",
      "source": [
        "def train_evaluate_ML_classifier(classifier, train_1, train_labels_1, test_1, test_labels_1):\n",
        "    \n",
        "    kf = StratifiedKFold(n_splits=5, random_state= None) \n",
        "    test_accuracy = []\n",
        "    start = time.time()\n",
        "\n",
        "    if classifier == 'DecisionTree':\n",
        "        clf = DecisionTreeClassifier(max_depth=30, criterion='gini')\n",
        "    \n",
        "    elif classifier == 'SVM':\n",
        "        clf = svm.LinearSVC()\n",
        "        \n",
        "    elif classifier == 'RandomForest':\n",
        "        clf = RandomForestClassifier(max_depth=30, criterion='gini')\n",
        "        \n",
        "    elif classifier == 'NaiveBayes':\n",
        "        clf = GaussianNB()\n",
        "        \n",
        "    elif classifier == 'KNeighbors':\n",
        "        clf = KNeighborsClassifier(n_neighbors=3, algorithm='kd_tree')\n",
        "        \n",
        "    else:\n",
        "        pass\n",
        "    \n",
        "    clf.fit(rX_train, ry_train)\n",
        "    pred = clf.predict(rX_test)\n",
        "\n",
        "    for train_index, validation_index in kf.split(train_1, train_labels_1):\n",
        "    #     print(\"Train:\", train_index, \"Validation:\",test_index)\n",
        "    #    X_train, X_validation = train_1[train_index], train_1[validation_index] \n",
        "    #    y_train, y_validation = train_labels_1[train_index], train_labels_1[validation_index]\n",
        "    #    clf.fit(X_train, y_train)\n",
        "\n",
        "        \n",
        "        conf_mat = (confusion_matrix(ry_test, pred))\n",
        "        tn, fp, fn, tp = conf_mat.ravel()\n",
        "        accuracy = (tp + tn) / (tp+tn+fp+fn)\n",
        "        test_accuracy.append(accuracy)\n",
        "        \n",
        "    end = time.time()\n",
        "    print('Time to train '+classifier+' on Dataset '+' is: ' + str(end - start))\n",
        "    \n",
        "    y_pred = clf.predict(test_1)\n",
        "    y_proba = clf.predict_proba(test_1)\n",
        "    plot_roc_curve(test_labels_1, y_proba[:, 1])\n",
        "    from sklearn.metrics import roc_auc_score\n",
        "    score = roc_auc_score(test_labels_1, y_pred)\n",
        "    print(f\"ROC AUC: {score:.4f}\")\n",
        "    \n",
        "    test_conf_mat = (confusion_matrix(test_labels_1, clf.predict(test_1)))\n",
        "    dataset_3_confusion_mat = 0\n",
        "        \n",
        "    return test_accuracy, test_conf_mat, dataset_3_confusion_mat"
      ],
      "metadata": {
        "id": "wNv1qvhuB7du"
      },
      "execution_count": null,
      "outputs": []
    },
    {
      "cell_type": "code",
      "source": [
        "def get_scores(confusion_matrix):\n",
        "    \n",
        "    tn = 0\n",
        "    tp = 0\n",
        "    fp = 0\n",
        "    fn = 0\n",
        "    specificity = 0\n",
        "    precision = 0\n",
        "    recall = 0\n",
        "    f1_score = 0\n",
        "    \n",
        "    \n",
        "    \n",
        "    tn, fp, fn, tp = confusion_matrix.ravel()\n",
        "    test_acc = (tp + tn) / (tp+tn+fp+fn)\n",
        "    specificity = tn / (tn+fp)\n",
        "    precision = tp / (tp + fp)\n",
        "    recall = tp / (tp + fn)\n",
        "    f1_score = 2 * ((precision * recall)/(precision + recall))\n",
        "    \n",
        "    return test_acc, specificity, precision, recall, f1_score"
      ],
      "metadata": {
        "id": "KvWNSvLsCeyV"
      },
      "execution_count": null,
      "outputs": []
    },
    {
      "cell_type": "code",
      "source": [
        "from sklearn.metrics import roc_curve\n",
        "from sklearn.metrics import RocCurveDisplay\n",
        "def plot_roc_curve(y_real, y_pred):\n",
        "    fpr, tpr, _ = roc_curve(y_real, y_pred)\n",
        "    roc_display = RocCurveDisplay(fpr=fpr, tpr=tpr).plot()\n",
        "    roc_display.figure_.set_size_inches(5,5)\n",
        "    plt.plot([0, 1], [0, 1], color = 'g')"
      ],
      "metadata": {
        "id": "UaBHY2d1n_dF"
      },
      "execution_count": null,
      "outputs": []
    },
    {
      "cell_type": "code",
      "source": [
        "test_accuracy = []\n",
        "selected_features_1 = []\n",
        "selected_features_2 = []\n",
        "selected_features_3 = []\n",
        "test_confusion_matrix = None\n",
        "plot_name = ''\n",
        "print(' FEATURE SELECTION USING GA \\n\\n')\n",
        "classifiers = ['DecisionTree', 'SVM', 'RandomForest', 'NaiveBayes', 'KNeighbors']\n",
        "\n",
        "    \n",
        "for classifier in classifiers:\n",
        "      print('\\n\\n' + classifier)\n",
        "      dataset, features_dataset, labels_dataset, feature_names_dataset = get_data()\n",
        "      (train, test, train_labels, test_labels) = train_test_split(features_dataset, \n",
        "                                                                labels_dataset, test_size=0.2, \n",
        "                                                                        random_state=0)\n",
        "    \n",
        "            test_accuracy, test_confusion_matrix, dataset_3_confusion_mat = train_evaluate_ML_classifier(classifier,train, train_labels, test, test_labels)\n",
        "           \n",
        "      test_acc, specificity, precision, recall, f1_score = get_scores(test_confusion_matrix)\n",
        "      print(\"Accuracy:\"+str(test_acc))\n",
        "      print(\"Specificity:\"+str(specificity))\n",
        "      print(\"Precision:\"+str(precision))\n",
        "      print(\"Recall:\"+str(recall))\n",
        "      print(\"F1 Score:\"+str(f1_score))\n",
        "     \n",
        "             "
      ],
      "metadata": {
        "colab": {
          "base_uri": "https://localhost:8080/",
          "height": 1000
        },
        "id": "TyGOrI8wpF30",
        "outputId": "b490ccce-6f5a-4520-fe9b-5b9773633d10"
      },
      "execution_count": null,
      "outputs": [
        {
          "output_type": "stream",
          "name": "stdout",
          "text": [
            " FEATURE SELECTION USING GA \n",
            "\n",
            "\n",
            "\n",
            "\n",
            "DecisionTree\n",
            "Time to train DecisionTree on Dataset  is: 0.03691911697387695\n",
            "ROC AUC: 0.9466\n",
            "Accuracy:0.9470827679782904\n",
            "Specificity:0.9408284023668639\n",
            "Precision:0.95\n",
            "Recall:0.9523809523809523\n",
            "F1 Score:0.9511889862327909\n",
            "\n",
            "\n",
            "SVM\n"
          ]
        },
        {
          "output_type": "stream",
          "name": "stderr",
          "text": [
            "/usr/local/lib/python3.7/dist-packages/sklearn/base.py:451: UserWarning: X does not have valid feature names, but DecisionTreeClassifier was fitted with feature names\n",
            "  \"X does not have valid feature names, but\"\n",
            "/usr/local/lib/python3.7/dist-packages/sklearn/base.py:451: UserWarning: X does not have valid feature names, but DecisionTreeClassifier was fitted with feature names\n",
            "  \"X does not have valid feature names, but\"\n",
            "/usr/local/lib/python3.7/dist-packages/sklearn/base.py:451: UserWarning: X does not have valid feature names, but DecisionTreeClassifier was fitted with feature names\n",
            "  \"X does not have valid feature names, but\"\n"
          ]
        },
        {
          "output_type": "stream",
          "name": "stdout",
          "text": [
            "Time to train SVM on Dataset  is: 0.24631381034851074\n"
          ]
        },
        {
          "output_type": "stream",
          "name": "stderr",
          "text": [
            "/usr/local/lib/python3.7/dist-packages/sklearn/base.py:451: UserWarning: X does not have valid feature names, but LinearSVC was fitted with feature names\n",
            "  \"X does not have valid feature names, but\"\n"
          ]
        },
        {
          "output_type": "error",
          "ename": "AttributeError",
          "evalue": "ignored",
          "traceback": [
            "\u001b[0;31m---------------------------------------------------------------------------\u001b[0m",
            "\u001b[0;31mAttributeError\u001b[0m                            Traceback (most recent call last)",
            "\u001b[0;32m<ipython-input-25-751e002052b7>\u001b[0m in \u001b[0;36m<module>\u001b[0;34m()\u001b[0m\n\u001b[1;32m     17\u001b[0m \u001b[0;34m\u001b[0m\u001b[0m\n\u001b[1;32m     18\u001b[0m \u001b[0;34m\u001b[0m\u001b[0m\n\u001b[0;32m---> 19\u001b[0;31m       \u001b[0mtest_accuracy\u001b[0m\u001b[0;34m,\u001b[0m \u001b[0mtest_confusion_matrix\u001b[0m\u001b[0;34m,\u001b[0m \u001b[0mdataset_3_confusion_mat\u001b[0m \u001b[0;34m=\u001b[0m \u001b[0mtrain_evaluate_ML_classifier\u001b[0m\u001b[0;34m(\u001b[0m\u001b[0mclassifier\u001b[0m\u001b[0;34m,\u001b[0m\u001b[0mtrain\u001b[0m\u001b[0;34m,\u001b[0m \u001b[0mtrain_labels\u001b[0m\u001b[0;34m,\u001b[0m \u001b[0mtest\u001b[0m\u001b[0;34m,\u001b[0m \u001b[0mtest_labels\u001b[0m\u001b[0;34m)\u001b[0m\u001b[0;34m\u001b[0m\u001b[0;34m\u001b[0m\u001b[0m\n\u001b[0m\u001b[1;32m     20\u001b[0m \u001b[0;34m\u001b[0m\u001b[0m\n\u001b[1;32m     21\u001b[0m       \u001b[0mtest_acc\u001b[0m\u001b[0;34m,\u001b[0m \u001b[0mspecificity\u001b[0m\u001b[0;34m,\u001b[0m \u001b[0mprecision\u001b[0m\u001b[0;34m,\u001b[0m \u001b[0mrecall\u001b[0m\u001b[0;34m,\u001b[0m \u001b[0mf1_score\u001b[0m \u001b[0;34m=\u001b[0m \u001b[0mget_scores\u001b[0m\u001b[0;34m(\u001b[0m\u001b[0mtest_confusion_matrix\u001b[0m\u001b[0;34m)\u001b[0m\u001b[0;34m\u001b[0m\u001b[0;34m\u001b[0m\u001b[0m\n",
            "\u001b[0;32m<ipython-input-21-e5de5e5ee33a>\u001b[0m in \u001b[0;36mtrain_evaluate_ML_classifier\u001b[0;34m(classifier, train_1, train_labels_1, test_1, test_labels_1)\u001b[0m\n\u001b[1;32m     42\u001b[0m \u001b[0;34m\u001b[0m\u001b[0m\n\u001b[1;32m     43\u001b[0m     \u001b[0my_pred\u001b[0m \u001b[0;34m=\u001b[0m \u001b[0mclf\u001b[0m\u001b[0;34m.\u001b[0m\u001b[0mpredict\u001b[0m\u001b[0;34m(\u001b[0m\u001b[0mtest_1\u001b[0m\u001b[0;34m)\u001b[0m\u001b[0;34m\u001b[0m\u001b[0;34m\u001b[0m\u001b[0m\n\u001b[0;32m---> 44\u001b[0;31m     \u001b[0my_proba\u001b[0m \u001b[0;34m=\u001b[0m \u001b[0mclf\u001b[0m\u001b[0;34m.\u001b[0m\u001b[0mpredict_proba\u001b[0m\u001b[0;34m(\u001b[0m\u001b[0mtest_1\u001b[0m\u001b[0;34m)\u001b[0m\u001b[0;34m\u001b[0m\u001b[0;34m\u001b[0m\u001b[0m\n\u001b[0m\u001b[1;32m     45\u001b[0m     \u001b[0mplot_roc_curve\u001b[0m\u001b[0;34m(\u001b[0m\u001b[0mtest_labels_1\u001b[0m\u001b[0;34m,\u001b[0m \u001b[0my_proba\u001b[0m\u001b[0;34m[\u001b[0m\u001b[0;34m:\u001b[0m\u001b[0;34m,\u001b[0m \u001b[0;36m1\u001b[0m\u001b[0;34m]\u001b[0m\u001b[0;34m)\u001b[0m\u001b[0;34m\u001b[0m\u001b[0;34m\u001b[0m\u001b[0m\n\u001b[1;32m     46\u001b[0m     \u001b[0;32mfrom\u001b[0m \u001b[0msklearn\u001b[0m\u001b[0;34m.\u001b[0m\u001b[0mmetrics\u001b[0m \u001b[0;32mimport\u001b[0m \u001b[0mroc_auc_score\u001b[0m\u001b[0;34m\u001b[0m\u001b[0;34m\u001b[0m\u001b[0m\n",
            "\u001b[0;31mAttributeError\u001b[0m: 'LinearSVC' object has no attribute 'predict_proba'"
          ]
        },
        {
          "output_type": "display_data",
          "data": {
            "text/plain": [
              "<Figure size 360x360 with 1 Axes>"
            ],
            "image/png": "[encoded data removed]"
          },
          "metadata": {
            "needs_background": "light"
          }
        }
      ]
    },
    {
      "cell_type": "code",
      "source": [],
      "metadata": {
        "id": "38vpi5z0pI6k"
      },
      "execution_count": null,
      "outputs": []
    },
    {
      "cell_type": "code",
      "source": [
        "test_accuracy = []\n",
        "selected_features_1 = []\n",
        "selected_features_2 = []\n",
        "selected_features_3 = []\n",
        "test_confusion_matrix = None\n",
        "plot_name = ''\n",
        "print(' FEATURE SELECTION USING GA \\n\\n')\n",
        "classifiers = ['DecisionTree', 'SVM', 'RandomForest', 'NaiveBayes', 'KNeighbors']\n",
        "\n",
        "    \n",
        "for classifier in classifiers:\n",
        "      print('\\n\\n' + classifier)\n",
        "      dataset, features_dataset, labels_dataset, feature_names_dataset = get_data()\n",
        "      (train, test, train_labels, test_labels) = train_test_split(features_dataset, \n",
        "                                                                labels_dataset, test_size=0.2, \n",
        "                                                                        random_state=0)\n",
        "    \n",
        "      \n",
        "      test_accuracy, test_confusion_matrix, dataset_3_confusion_mat = train_evaluate_ML_classifier(classifier,train, train_labels, test, test_labels)\n",
        "           \n",
        "      test_acc, specificity, precision, recall, f1_score = get_scores(test_confusion_matrix)\n",
        "      print(\"Accuracy:\"+str(test_acc))\n",
        "      print(\"Specificity:\"+str(specificity))\n",
        "      print(\"Precision:\"+str(precision))\n",
        "      print(\"Recall:\"+str(recall))\n",
        "      print(\"F1 Score:\"+str(f1_score))\n",
        "     \n",
        "             "
      ],
      "metadata": {
        "colab": {
          "base_uri": "https://localhost:8080/"
        },
        "id": "H1ohIvPDCkbN",
        "outputId": "252733dc-375b-4d68-ca80-6f13b76f71d7"
      },
      "execution_count": null,
      "outputs": [
        {
          "output_type": "stream",
          "name": "stdout",
          "text": [
            " FEATURE SELECTION USING GA \n",
            "\n",
            "\n",
            "\n",
            "\n",
            "DecisionTree\n",
            "Time to train DecisionTree on Dataset  is: 0.025194883346557617\n",
            "Accuracy:0.9457259158751696\n",
            "Specificity:0.9408284023668639\n",
            "Precision:0.949874686716792\n",
            "Recall:0.949874686716792\n",
            "F1 Score:0.949874686716792\n",
            "\n",
            "\n",
            "SVM\n"
          ]
        },
        {
          "output_type": "stream",
          "name": "stderr",
          "text": [
            "/usr/local/lib/python3.7/dist-packages/sklearn/base.py:451: UserWarning: X does not have valid feature names, but DecisionTreeClassifier was fitted with feature names\n",
            "  \"X does not have valid feature names, but\"\n"
          ]
        },
        {
          "output_type": "stream",
          "name": "stdout",
          "text": [
            "Time to train SVM on Dataset  is: 0.2623939514160156\n",
            "Accuracy:0.9185888738127544\n",
            "Specificity:0.8895463510848126\n",
            "Precision:0.9097502014504432\n",
            "Recall:0.9431913116123642\n",
            "F1 Score:0.9261689909762101\n",
            "\n",
            "\n",
            "RandomForest\n"
          ]
        },
        {
          "output_type": "stream",
          "name": "stderr",
          "text": [
            "/usr/local/lib/python3.7/dist-packages/sklearn/base.py:451: UserWarning: X does not have valid feature names, but LinearSVC was fitted with feature names\n",
            "  \"X does not have valid feature names, but\"\n"
          ]
        },
        {
          "output_type": "stream",
          "name": "stdout",
          "text": [
            "Time to train RandomForest on Dataset  is: 1.052783727645874\n",
            "Accuracy:0.9547715965626413\n",
            "Specificity:0.9437869822485208\n",
            "Precision:0.9529314616019818\n",
            "Recall:0.9640768588137009\n",
            "F1 Score:0.9584717607973422\n",
            "\n",
            "\n",
            "NaiveBayes\n",
            "Time to train NaiveBayes on Dataset  is: 0.02089381217956543\n",
            "Accuracy:0.6096788783355948\n",
            "Specificity:1.0\n",
            "Precision:1.0\n",
            "Recall:0.27903091060985796\n",
            "F1 Score:0.4363161332462443\n",
            "\n",
            "\n",
            "KNeighbors\n"
          ]
        },
        {
          "output_type": "stream",
          "name": "stderr",
          "text": [
            "/usr/local/lib/python3.7/dist-packages/sklearn/base.py:451: UserWarning: X does not have valid feature names, but RandomForestClassifier was fitted with feature names\n",
            "  \"X does not have valid feature names, but\"\n",
            "/usr/local/lib/python3.7/dist-packages/sklearn/base.py:451: UserWarning: X does not have valid feature names, but GaussianNB was fitted with feature names\n",
            "  \"X does not have valid feature names, but\"\n"
          ]
        },
        {
          "output_type": "stream",
          "name": "stdout",
          "text": [
            "Time to train KNeighbors on Dataset  is: 0.46715855598449707\n"
          ]
        },
        {
          "output_type": "stream",
          "name": "stderr",
          "text": [
            "/usr/local/lib/python3.7/dist-packages/sklearn/base.py:451: UserWarning: X does not have valid feature names, but KNeighborsClassifier was fitted with feature names\n",
            "  \"X does not have valid feature names, but\"\n"
          ]
        },
        {
          "output_type": "stream",
          "name": "stdout",
          "text": [
            "Accuracy:0.9502487562189055\n",
            "Specificity:0.9319526627218935\n",
            "Precision:0.9436734693877551\n",
            "Recall:0.9657477025898078\n",
            "F1 Score:0.9545829892650701\n"
          ]
        }
      ]
    },
    {
      "cell_type": "code",
      "source": [
        "test.shape"
      ],
      "metadata": {
        "colab": {
          "base_uri": "https://localhost:8080/"
        },
        "id": "2h7CDVdIC5UW",
        "outputId": "11d20253-4b3e-493a-82e5-900e67f57627"
      },
      "execution_count": null,
      "outputs": [
        {
          "output_type": "execute_result",
          "data": {
            "text/plain": [
              "(2211, 19)"
            ]
          },
          "metadata": {},
          "execution_count": 18
        }
      ]
    },
    {
      "cell_type": "markdown",
      "source": [
        "# Different Models - CatBoost"
      ],
      "metadata": {
        "id": "dpL9SXRmQjMX"
      }
    },
    {
      "cell_type": "code",
      "source": [
        "!pip install catboost"
      ],
      "metadata": {
        "colab": {
          "base_uri": "https://localhost:8080/"
        },
        "id": "uJfz3T3bQ9Tk",
        "outputId": "05ec7d39-7850-4a4f-bd92-f39467ab23cd"
      },
      "execution_count": null,
      "outputs": [
        {
          "output_type": "stream",
          "name": "stdout",
          "text": [
            "Collecting catboost\n",
            "  Downloading catboost-1.0.3-cp37-none-manylinux1_x86_64.whl (76.3 MB)\n",
            "\u001b[K     |████████████████████████████████| 76.3 MB 63 kB/s \n",
            "\u001b[?25hRequirement already satisfied: plotly in /usr/local/lib/python3.7/dist-packages (from catboost) (4.4.1)\n",
            "Requirement already satisfied: six in /usr/local/lib/python3.7/dist-packages (from catboost) (1.15.0)\n",
            "Requirement already satisfied: scipy in /usr/local/lib/python3.7/dist-packages (from catboost) (1.4.1)\n",
            "Requirement already satisfied: matplotlib in /usr/local/lib/python3.7/dist-packages (from catboost) (3.2.2)\n",
            "Requirement already satisfied: graphviz in /usr/local/lib/python3.7/dist-packages (from catboost) (0.10.1)\n",
            "Requirement already satisfied: numpy>=1.16.0 in /usr/local/lib/python3.7/dist-packages (from catboost) (1.19.5)\n",
            "Requirement already satisfied: pandas>=0.24.0 in /usr/local/lib/python3.7/dist-packages (from catboost) (1.1.5)\n",
            "Requirement already satisfied: python-dateutil>=2.7.3 in /usr/local/lib/python3.7/dist-packages (from pandas>=0.24.0->catboost) (2.8.2)\n",
            "Requirement already satisfied: pytz>=2017.2 in /usr/local/lib/python3.7/dist-packages (from pandas>=0.24.0->catboost) (2018.9)\n",
            "Requirement already satisfied: kiwisolver>=1.0.1 in /usr/local/lib/python3.7/dist-packages (from matplotlib->catboost) (1.3.2)\n",
            "Requirement already satisfied: cycler>=0.10 in /usr/local/lib/python3.7/dist-packages (from matplotlib->catboost) (0.11.0)\n",
            "Requirement already satisfied: pyparsing!=2.0.4,!=2.1.2,!=2.1.6,>=2.0.1 in /usr/local/lib/python3.7/dist-packages (from matplotlib->catboost) (3.0.6)\n",
            "Requirement already satisfied: retrying>=1.3.3 in /usr/local/lib/python3.7/dist-packages (from plotly->catboost) (1.3.3)\n",
            "Installing collected packages: catboost\n",
            "Successfully installed catboost-1.0.3\n"
          ]
        }
      ]
    },
    {
      "cell_type": "code",
      "source": [
        "#  catboost Classifier Model\n",
        "from catboost import CatBoostClassifier\n",
        "\n",
        "# instantiate the model\n",
        "cat = CatBoostClassifier(learning_rate  = 0.1)\n",
        "\n",
        "# fit the model \n",
        "cat.fit(X_train,y_train)"
      ],
      "metadata": {
        "id": "9QL2miaSQlkh"
      },
      "execution_count": null,
      "outputs": []
    },
    {
      "cell_type": "code",
      "source": [
        "#predicting the target value from the model for the samples\n",
        "y_train_cat = cat.predict(X_train)\n",
        "y_test_cat = cat.predict(X_test)"
      ],
      "metadata": {
        "id": "ByCPTW47Qma_"
      },
      "execution_count": null,
      "outputs": []
    },
    {
      "cell_type": "code",
      "source": [
        "import sklearn.metrics as metrics"
      ],
      "metadata": {
        "id": "x5EfY860RKNn"
      },
      "execution_count": null,
      "outputs": []
    },
    {
      "cell_type": "code",
      "source": [
        "acc_train_cat  = metrics.accuracy_score(y_train,y_train_cat) *100\n",
        "acc_test_cat = metrics.accuracy_score(y_test,y_test_cat) *100\n",
        "print(\"CatBoost Classifier : Accuracy on training Data: {:.3f}%\".format(acc_train_cat))\n",
        "print(\"CatBoost Classifier : Accuracy on test Data: {:.3f}%\".format(acc_test_cat))"
      ],
      "metadata": {
        "colab": {
          "base_uri": "https://localhost:8080/"
        },
        "id": "l6ZIpXfYQzNt",
        "outputId": "c2e82f69-3022-4dd3-8ce4-d99209ed7c00"
      },
      "execution_count": null,
      "outputs": [
        {
          "output_type": "stream",
          "name": "stdout",
          "text": [
            "CatBoost Classifier : Accuracy on training Data: 98.992%\n",
            "CatBoost Classifier : Accuracy on test Data: 97.166%\n"
          ]
        }
      ]
    },
    {
      "cell_type": "code",
      "source": [
        "#  catboost Classifier Model\n",
        "from catboost import CatBoostClassifier\n",
        "\n",
        "# instantiate the model\n",
        "cat = CatBoostClassifier(learning_rate  = 0.1)\n",
        "\n",
        "# fit the model \n",
        "cat.fit(rX_train,ry_train)"
      ],
      "metadata": {
        "id": "8xvRv-4URPjX"
      },
      "execution_count": null,
      "outputs": []
    },
    {
      "cell_type": "code",
      "source": [
        "#predicting the target value from the model for the samples\n",
        "ry_train_cat = cat.predict(rX_train)\n",
        "ry_test_cat = cat.predict(rX_test)"
      ],
      "metadata": {
        "id": "VPG7jCKARZrw"
      },
      "execution_count": null,
      "outputs": []
    },
    {
      "cell_type": "code",
      "source": [
        "racc_train_cat  = metrics.accuracy_score(ry_train,ry_train_cat) *100\n",
        "racc_test_cat = metrics.accuracy_score(ry_test,ry_test_cat) *100\n",
        "print(\"CatBoost Classifier : Accuracy on training Data: {:.3f}%\".format(racc_train_cat))\n",
        "print(\"CatBoost Classifier : Accuracy on test Data: {:.3f}%\".format(racc_test_cat))"
      ],
      "metadata": {
        "colab": {
          "base_uri": "https://localhost:8080/"
        },
        "id": "3k6u44wxRikh",
        "outputId": "d3e521b1-b700-4a89-8fa7-4a7f281c87ca"
      },
      "execution_count": null,
      "outputs": [
        {
          "output_type": "stream",
          "name": "stdout",
          "text": [
            "CatBoost Classifier : Accuracy on training Data: 98.191%\n",
            "CatBoost Classifier : Accuracy on test Data: 96.473%\n",
            "\n"
          ]
        }
      ]
    },
    {
      "cell_type": "markdown",
      "source": [
        "# Different Model - Gradient Boost"
      ],
      "metadata": {
        "id": "IfNMjKA-WC3O"
      }
    },
    {
      "cell_type": "code",
      "source": [
        "from sklearn.ensemble import GradientBoostingClassifier\n",
        "\n",
        "gbc = GradientBoostingClassifier(max_depth=4,learning_rate=0.7)\n",
        "\n",
        "gbc.fit(X_train,y_train)"
      ],
      "metadata": {
        "colab": {
          "base_uri": "https://localhost:8080/"
        },
        "id": "2h5MIqlyWHxg",
        "outputId": "8549a628-fd7b-49bc-e07b-9bf3fc81f46f"
      },
      "execution_count": null,
      "outputs": [
        {
          "output_type": "execute_result",
          "data": {
            "text/plain": [
              "GradientBoostingClassifier(learning_rate=0.7, max_depth=4)"
            ]
          },
          "metadata": {},
          "execution_count": 69
        }
      ]
    },
    {
      "cell_type": "code",
      "source": [
        "y_train_gbc = gbc.predict(X_train)\n",
        "y_test_gbc = gbc.predict(X_test)"
      ],
      "metadata": {
        "id": "EnxdksYXWgkj"
      },
      "execution_count": null,
      "outputs": []
    },
    {
      "cell_type": "code",
      "source": [
        "acc_train_gbc = metrics.accuracy_score(y_train,y_train_gbc) *100\n",
        "acc_test_gbc = metrics.accuracy_score(y_test,y_test_gbc) *100\n",
        "print(\"Gradient Boosting Classifier : Accuracy on training Data: {:.3f}%\".format(acc_train_gbc))\n",
        "print(\"Gradient Boosting Classifier : Accuracy on test Data: {:.3f}%\".format(acc_test_gbc)) "
      ],
      "metadata": {
        "colab": {
          "base_uri": "https://localhost:8080/"
        },
        "id": "gbOo_m3EWlPH",
        "outputId": "64347e06-9508-43e8-cddf-7dc52bf52e64"
      },
      "execution_count": null,
      "outputs": [
        {
          "output_type": "stream",
          "name": "stdout",
          "text": [
            "Gradient Boosting Classifier : Accuracy on training Data: 98.837%\n",
            "Gradient Boosting Classifier : Accuracy on test Data: 97.046%\n"
          ]
        }
      ]
    },
    {
      "cell_type": "code",
      "source": [
        "gbc.fit(rX_train,ry_train)"
      ],
      "metadata": {
        "colab": {
          "base_uri": "https://localhost:8080/"
        },
        "id": "ChPgiPbCWr-q",
        "outputId": "e7c38a47-39fd-49f4-d991-98283d54b6d3"
      },
      "execution_count": null,
      "outputs": [
        {
          "output_type": "execute_result",
          "data": {
            "text/plain": [
              "GradientBoostingClassifier(learning_rate=0.7, max_depth=4)"
            ]
          },
          "metadata": {},
          "execution_count": 74
        }
      ]
    },
    {
      "cell_type": "code",
      "source": [
        "ry_train_gbc = gbc.predict(rX_train)\n",
        "ry_test_gbc = gbc.predict(rX_test)"
      ],
      "metadata": {
        "id": "jAcG3xmbW1Nt"
      },
      "execution_count": null,
      "outputs": []
    },
    {
      "cell_type": "code",
      "source": [
        "racc_train_gbc = metrics.accuracy_score(ry_train,ry_train_gbc) *100\n",
        "racc_test_gbc = metrics.accuracy_score(ry_test,ry_test_gbc) *100\n",
        "print(\"Gradient Boosting Classifier : Accuracy on training Data: {:.3f}%\".format(racc_train_gbc))\n",
        "print(\"Gradient Boosting Classifier : Accuracy on test Data: {:.3f}%\".format(racc_test_gbc)) "
      ],
      "metadata": {
        "colab": {
          "base_uri": "https://localhost:8080/"
        },
        "id": "oAFnLHWyW5PI",
        "outputId": "b3a5e01a-5580-4eaa-cc73-1ef2cedcaa22"
      },
      "execution_count": null,
      "outputs": [
        {
          "output_type": "stream",
          "name": "stdout",
          "text": [
            "Gradient Boosting Classifier : Accuracy on training Data: 97.984%\n",
            "Gradient Boosting Classifier : Accuracy on test Data: 96.262%\n"
          ]
        }
      ]
    },
    {
      "cell_type": "markdown",
      "source": [
        "# Storing and Comparing models"
      ],
      "metadata": {
        "id": "_FelqJghVsVk"
      }
    },
    {
      "cell_type": "code",
      "source": [
        "ML_Model = []\n",
        "accuracywoga = []\n",
        "accuracywga = []\n",
        "\n",
        "def storeResults(model, a,b):\n",
        "  ML_Model.append(model)\n",
        "  accuracywoga.append(round(a, 3))\n",
        "  accuracywga.append(round(b, 3))"
      ],
      "metadata": {
        "id": "MrYFMoAxS4Qu"
      },
      "execution_count": null,
      "outputs": []
    },
    {
      "cell_type": "code",
      "source": [
        "storeResults('K-Nearest Neighbors',acc,racc)"
      ],
      "metadata": {
        "id": "NgP1tfDyS5SN"
      },
      "execution_count": null,
      "outputs": []
    },
    {
      "cell_type": "code",
      "source": [
        "storeResults('CatBoost Classifier',acc_test_cat,racc_test_cat)"
      ],
      "metadata": {
        "id": "E890WQ_CS2yK"
      },
      "execution_count": null,
      "outputs": []
    },
    {
      "cell_type": "code",
      "source": [
        "storeResults('Gradient Boosting Classifier',acc_test_gbc, racc_test_gbc)"
      ],
      "metadata": {
        "id": "TJ2MsgQrXFuv"
      },
      "execution_count": null,
      "outputs": []
    },
    {
      "cell_type": "code",
      "source": [
        "result = pd.DataFrame({ 'ML Model' : ML_Model,\n",
        "                        'Accuracy w/o GA' : accuracywoga,\n",
        "                        'Accuracy w GA' : accuracywga,\n",
        "                      })"
      ],
      "metadata": {
        "id": "25to95RGUMEM"
      },
      "execution_count": null,
      "outputs": []
    },
    {
      "cell_type": "code",
      "source": [
        "result"
      ],
      "metadata": {
        "colab": {
          "base_uri": "https://localhost:8080/",
          "height": 142
        },
        "id": "VWKy4daxUi0l",
        "outputId": "61c18701-113a-4d60-a832-84c16c73b6c1"
      },
      "execution_count": null,
      "outputs": [
        {
          "output_type": "execute_result",
          "data": {
            "text/html": [
              "\n",
              "  <div id=\"df-84881964-4da8-40be-bae7-192f57edf571\">\n",
              "    <div class=\"colab-df-container\">\n",
              "      <div>\n",
              "<style scoped>\n",
              "    .dataframe tbody tr th:only-of-type {\n",
              "        vertical-align: middle;\n",
              "    }\n",
              "\n",
              "    .dataframe tbody tr th {\n",
              "        vertical-align: top;\n",
              "    }\n",
              "\n",
              "    .dataframe thead th {\n",
              "        text-align: right;\n",
              "    }\n",
              "</style>\n",
              "<table border=\"1\" class=\"dataframe\">\n",
              "  <thead>\n",
              "    <tr style=\"text-align: right;\">\n",
              "      <th></th>\n",
              "      <th>ML Model</th>\n",
              "      <th>Accuracy w/o GA</th>\n",
              "      <th>Accuracy w GA</th>\n",
              "    </tr>\n",
              "  </thead>\n",
              "  <tbody>\n",
              "    <tr>\n",
              "      <th>0</th>\n",
              "      <td>K-Nearest Neighbors</td>\n",
              "      <td>94.181</td>\n",
              "      <td>94.181</td>\n",
              "    </tr>\n",
              "    <tr>\n",
              "      <th>1</th>\n",
              "      <td>CatBoost Classifier</td>\n",
              "      <td>97.166</td>\n",
              "      <td>96.473</td>\n",
              "    </tr>\n",
              "    <tr>\n",
              "      <th>2</th>\n",
              "      <td>Gradient Boosting Classifier</td>\n",
              "      <td>97.046</td>\n",
              "      <td>96.262</td>\n",
              "    </tr>\n",
              "  </tbody>\n",
              "</table>\n",
              "</div>\n",
              "      <button class=\"colab-df-convert\" onclick=\"convertToInteractive('df-84881964-4da8-40be-bae7-192f57edf571')\"\n",
              "              title=\"Convert this dataframe to an interactive table.\"\n",
              "              style=\"display:none;\">\n",
              "        \n",
              "  <svg xmlns=\"http://www.w3.org/2000/svg\" height=\"24px\"viewBox=\"0 0 24 24\"\n",
              "       width=\"24px\">\n",
              "    <path d=\"M0 0h24v24H0V0z\" fill=\"none\"/>\n",
              "    <path d=\"M18.56 5.44l.94 2.06.94-2.06 2.06-.94-2.06-.94-.94-2.06-.94 2.06-2.06.94zm-11 1L8.5 8.5l.94-2.06 2.06-.94-2.06-.94L8.5 2.5l-.94 2.06-2.06.94zm10 10l.94 2.06.94-2.06 2.06-.94-2.06-.94-.94-2.06-.94 2.06-2.06.94z\"/><path d=\"M17.41 7.96l-1.37-1.37c-.4-.4-.92-.59-1.43-.59-.52 0-1.04.2-1.43.59L10.3 9.45l-7.72 7.72c-.78.78-.78 2.05 0 2.83L4 21.41c.39.39.9.59 1.41.59.51 0 1.02-.2 1.41-.59l7.78-7.78 2.81-2.81c.8-.78.8-2.07 0-2.86zM5.41 20L4 18.59l7.72-7.72 1.47 1.35L5.41 20z\"/>\n",
              "  </svg>\n",
              "      </button>\n",
              "      \n",
              "  <style>\n",
              "    .colab-df-container {\n",
              "      display:flex;\n",
              "      flex-wrap:wrap;\n",
              "      gap: 12px;\n",
              "    }\n",
              "\n",
              "    .colab-df-convert {\n",
              "      background-color: #E8F0FE;\n",
              "      border: none;\n",
              "      border-radius: 50%;\n",
              "      cursor: pointer;\n",
              "      display: none;\n",
              "      fill: #1967D2;\n",
              "      height: 32px;\n",
              "      padding: 0 0 0 0;\n",
              "      width: 32px;\n",
              "    }\n",
              "\n",
              "    .colab-df-convert:hover {\n",
              "      background-color: #E2EBFA;\n",
              "      box-shadow: 0px 1px 2px rgba(60, 64, 67, 0.3), 0px 1px 3px 1px rgba(60, 64, 67, 0.15);\n",
              "      fill: #174EA6;\n",
              "    }\n",
              "\n",
              "    [theme=dark] .colab-df-convert {\n",
              "      background-color: #3B4455;\n",
              "      fill: #D2E3FC;\n",
              "    }\n",
              "\n",
              "    [theme=dark] .colab-df-convert:hover {\n",
              "      background-color: #434B5C;\n",
              "      box-shadow: 0px 1px 3px 1px rgba(0, 0, 0, 0.15);\n",
              "      filter: drop-shadow(0px 1px 2px rgba(0, 0, 0, 0.3));\n",
              "      fill: #FFFFFF;\n",
              "    }\n",
              "  </style>\n",
              "\n",
              "      <script>\n",
              "        const buttonEl =\n",
              "          document.querySelector('#df-84881964-4da8-40be-bae7-192f57edf571 button.colab-df-convert');\n",
              "        buttonEl.style.display =\n",
              "          google.colab.kernel.accessAllowed ? 'block' : 'none';\n",
              "\n",
              "        async function convertToInteractive(key) {\n",
              "          const element = document.querySelector('#df-84881964-4da8-40be-bae7-192f57edf571');\n",
              "          const dataTable =\n",
              "            await google.colab.kernel.invokeFunction('convertToInteractive',\n",
              "                                                     [key], {});\n",
              "          if (!dataTable) return;\n",
              "\n",
              "          const docLinkHtml = 'Like what you see? Visit the ' +\n",
              "            '<a target=\"_blank\" href=https://colab.research.google.com/notebooks/data_table.ipynb>data table notebook</a>'\n",
              "            + ' to learn more about interactive tables.';\n",
              "          element.innerHTML = '';\n",
              "          dataTable['output_type'] = 'display_data';\n",
              "          await google.colab.output.renderOutput(dataTable, element);\n",
              "          const docLink = document.createElement('div');\n",
              "          docLink.innerHTML = docLinkHtml;\n",
              "          element.appendChild(docLink);\n",
              "        }\n",
              "      </script>\n",
              "    </div>\n",
              "  </div>\n",
              "  "
            ],
            "text/plain": [
              "                       ML Model  Accuracy w/o GA  Accuracy w GA\n",
              "0           K-Nearest Neighbors           94.181         94.181\n",
              "1           CatBoost Classifier           97.166         96.473\n",
              "2  Gradient Boosting Classifier           97.046         96.262"
            ]
          },
          "metadata": {},
          "execution_count": 82
        }
      ]
    }
  ]
}